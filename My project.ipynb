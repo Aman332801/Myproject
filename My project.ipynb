{
 "cells": [
  {
   "cell_type": "markdown",
   "id": "ed9a4e57-7650-4cb2-a50f-b51bf94d178e",
   "metadata": {},
   "source": [
    "#  My Jupyter Notebook on IBM Watson Studio"
   ]
  },
  {
   "cell_type": "markdown",
   "id": "565a0554-345b-4d4b-ba91-060e4f09ace4",
   "metadata": {},
   "source": [
    "**Aman**\n",
    "\n",
    "UG Student "
   ]
  },
  {
   "cell_type": "markdown",
   "id": "6f9713ad-3313-4433-b45a-237ee09372f0",
   "metadata": {},
   "source": [
    "*I am interested in data science because I like to gain insights from data* "
   ]
  },
  {
   "cell_type": "markdown",
   "id": "8af4b9b0-5575-40a3-b218-1be4da5b3cd6",
   "metadata": {},
   "source": [
    "### Code to add two numbers"
   ]
  },
  {
   "cell_type": "code",
   "execution_count": 1,
   "id": "3cad7cac-754e-4a5f-af2e-792889f71ce8",
   "metadata": {},
   "outputs": [
    {
     "name": "stdin",
     "output_type": "stream",
     "text": [
      "Enter the first number 24\n",
      "Enter the second number 56\n"
     ]
    },
    {
     "name": "stdout",
     "output_type": "stream",
     "text": [
      "Additon of given numbers is: 80\n"
     ]
    }
   ],
   "source": [
    "a=int(input(\"Enter the first number\"))\n",
    "b=int(input(\"Enter the second number\"))\n",
    "c=a+b\n",
    "print(\"Additon of given numbers is:\",c)\n"
   ]
  },
  {
   "cell_type": "markdown",
   "id": "b3cb7639-21d8-4868-aaae-b116a9961207",
   "metadata": {},
   "source": [
    "- One\n",
    "- Two\n",
    "- Three\n",
    "\n",
    "<a href=\"https://dataplatform.cloud.ibm.com/gallery\">IBM Cloud Gallery</a>\n",
    "\n",
    "| Programming Language | Developer |\n",
    "|----------------------|-----------|\n",
    "| Python | Python Software Foundation|\n",
    "| Java | Oracle |"
   ]
  }
 ],
 "metadata": {
  "kernelspec": {
   "display_name": "Python",
   "language": "python",
   "name": "conda-env-python-py"
  },
  "language_info": {
   "codemirror_mode": {
    "name": "ipython",
    "version": 3
   },
   "file_extension": ".py",
   "mimetype": "text/x-python",
   "name": "python",
   "nbconvert_exporter": "python",
   "pygments_lexer": "ipython3",
   "version": "3.7.12"
  }
 },
 "nbformat": 4,
 "nbformat_minor": 5
}
